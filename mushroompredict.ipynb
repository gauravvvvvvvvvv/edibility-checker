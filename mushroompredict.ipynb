{
 "cells": [
  {
   "cell_type": "code",
   "execution_count": 7,
   "id": "c91ee768-7172-41d1-8ff6-5fda827be176",
   "metadata": {},
   "outputs": [],
   "source": [
    "import pickle \n",
    "import pandas as pd"
   ]
  },
  {
   "cell_type": "code",
   "execution_count": 11,
   "id": "108f742d-c147-4aa9-8d22-459c7ec4d670",
   "metadata": {},
   "outputs": [],
   "source": [
    "inp = pd.read_csv(\"mushrooms.csv\")"
   ]
  },
  {
   "cell_type": "code",
   "execution_count": 13,
   "id": "930e525d-1a8f-4280-91cf-899bd7b4a3d2",
   "metadata": {},
   "outputs": [],
   "source": [
    "a = inp.iloc[0:1, 1:]"
   ]
  },
  {
   "cell_type": "code",
   "execution_count": 5,
   "id": "e26cb39f-59b8-4603-b2fb-b6454127d57b",
   "metadata": {},
   "outputs": [],
   "source": [
    "pipe = pickle.load(open(\"pipe.pkl\", \"rb\"))"
   ]
  },
  {
   "cell_type": "code",
   "execution_count": 15,
   "id": "a94fe75a-cf38-4e9d-8596-a02b13920453",
   "metadata": {},
   "outputs": [
    {
     "data": {
      "text/plain": [
       "array(['p'], dtype=object)"
      ]
     },
     "execution_count": 15,
     "metadata": {},
     "output_type": "execute_result"
    }
   ],
   "source": [
    "pipe.predict(a)"
   ]
  }
 ],
 "metadata": {
  "kernelspec": {
   "display_name": "Python 3 (ipykernel)",
   "language": "python",
   "name": "python3"
  },
  "language_info": {
   "codemirror_mode": {
    "name": "ipython",
    "version": 3
   },
   "file_extension": ".py",
   "mimetype": "text/x-python",
   "name": "python",
   "nbconvert_exporter": "python",
   "pygments_lexer": "ipython3",
   "version": "3.11.7"
  }
 },
 "nbformat": 4,
 "nbformat_minor": 5
}
